{
  "nbformat": 4,
  "nbformat_minor": 0,
  "metadata": {
    "language_info": {
      "codemirror_mode": {
        "name": "ipython",
        "version": 3
      },
      "file_extension": ".py",
      "mimetype": "text/x-python",
      "name": "python",
      "nbconvert_exporter": "python",
      "pygments_lexer": "ipython3",
      "version": "3.8.5-final"
    },
    "orig_nbformat": 2,
    "kernelspec": {
      "name": "python3",
      "display_name": "Python 3.8.5 64-bit ('torchaudio': conda)",
      "metadata": {
        "interpreter": {
          "hash": "cbf1852d1e37687e12a18924638bc311a6e9924cb07491b858e72a3e144db4c0"
        }
      }
    },
    "colab": {
      "name": "Code_ITelligence_(Portraying Normalization of data).ipynb",
      "provenance": []
    }
  },
  "cells": [
    {
      "cell_type": "markdown",
      "metadata": {
        "id": "5uSD3W2oStgn"
      },
      "source": [
        "# Mounting to Google Drive "
      ]
    },
    {
      "cell_type": "code",
      "metadata": {
        "colab": {
          "base_uri": "https://localhost:8080/"
        },
        "id": "l2__60eHSr_d",
        "outputId": "69dc5fa4-c5c0-4878-b986-9aae1892b515"
      },
      "source": [
        "from google.colab import drive\r\n",
        "drive.mount('/content/gdrive')"
      ],
      "execution_count": null,
      "outputs": [
        {
          "output_type": "stream",
          "text": [
            "Mounted at /content/gdrive\n"
          ],
          "name": "stdout"
        }
      ]
    },
    {
      "cell_type": "markdown",
      "metadata": {
        "id": "hECSLfw_QPtv"
      },
      "source": [
        "# Importing Libraries"
      ]
    },
    {
      "cell_type": "code",
      "metadata": {
        "id": "IaWa0TFNK9ov"
      },
      "source": [
        "import torch\n",
        "from torch import nn\n",
        "import librosa\n",
        "import numpy as np"
      ],
      "execution_count": null,
      "outputs": []
    },
    {
      "cell_type": "markdown",
      "metadata": {
        "id": "Qq-IfakYTHll"
      },
      "source": [
        "# Checking GPU availability\r\n"
      ]
    },
    {
      "cell_type": "code",
      "metadata": {
        "colab": {
          "base_uri": "https://localhost:8080/"
        },
        "id": "RSlqDasJTFuC",
        "outputId": "3ca581e0-8a7b-4c5b-d161-c65f216c630a"
      },
      "source": [
        "if torch.cuda.is_available():\r\n",
        "    device = torch.device('cuda')\r\n",
        "    print(\"running on the GPU\")\r\n",
        "else:\r\n",
        "    device = torch.device('cpu')\r\n",
        "    print(\"running on the CPU\")"
      ],
      "execution_count": null,
      "outputs": [
        {
          "output_type": "stream",
          "text": [
            "running on the CPU\n"
          ],
          "name": "stdout"
        }
      ]
    },
    {
      "cell_type": "markdown",
      "metadata": {
        "id": "zAPSHXkvQVsg"
      },
      "source": [
        "## Model Definition"
      ]
    },
    {
      "cell_type": "code",
      "metadata": {
        "id": "EsbVvneAK9o9"
      },
      "source": [
        "\"\"\"LSTMNet Class (runs on CPU)\"\"\"\n",
        "\n",
        "class LSTMNet(nn.Module):\n",
        "    def __init__(self, input_dim, hidden_dim, num_layers, output_dim):\n",
        "        super(LSTMNet, self).__init__()\n",
        "        # Hidden dimensions\n",
        "        self.hidden_dim = hidden_dim\n",
        "\n",
        "        # Number of hidden layers\n",
        "        self.num_layers = num_layers\n",
        "\n",
        "        # Building LSTM\n",
        "        # batch_first=True causes input/output tensors to be of shape (batch_dim, seq_dim, feature_dim)\n",
        "        self.lstm = nn.LSTM(input_dim, hidden_dim, num_layers, batch_first=True)\n",
        "\n",
        "        # Fully-connected layer\n",
        "        #self.fc = nn.Linear(hidden_dim, output_dim)\n",
        "\n",
        "    def forward(self, x):\n",
        "        # Initialize hidden state with zeros\n",
        "        #x = x.to(device)\n",
        "        h0 = torch.zeros(self.num_layers, x.size(0), self.hidden_dim).requires_grad_()\n",
        "        # Initialize cell state\n",
        "        c0 = torch.zeros(self.num_layers, x.size(0), self.hidden_dim).requires_grad_()\n",
        "        # One time step\n",
        "\n",
        "        # Using \"detach\" as we are doing truncated backpropagation through time (BPTT)\n",
        "        # If we don't, we'll backprop all the way to the start even after going through another batch\n",
        "        out, (hn, cn) = self.lstm(x, (h0.detach(), c0.detach())) \n",
        "        \n",
        "        return out\n",
        "    "
      ],
      "execution_count": null,
      "outputs": []
    },
    {
      "cell_type": "code",
      "metadata": {
        "id": "NXyifZ8WK9o-",
        "colab": {
          "base_uri": "https://localhost:8080/"
        },
        "outputId": "75b1745d-13be-451b-d75d-ad4d7cd794c2"
      },
      "source": [
        "n_mels = 80\n",
        "n_layers = 3\n",
        "rnn = LSTMNet(n_mels, n_mels, n_layers, n_mels)\n",
        "rnn_total_params = sum(p.numel() for p in rnn.parameters() if p.requires_grad)\n",
        "print(\"Total number of parameters for a {} layer LSTM with {} mel features: \".format(n_layers, n_mels))\n",
        "print(\" {}\".format(rnn_total_params))"
      ],
      "execution_count": null,
      "outputs": [
        {
          "output_type": "stream",
          "text": [
            "Total number of parameters for a 3 layer LSTM with 80 mel features: \n",
            " 155520\n"
          ],
          "name": "stdout"
        }
      ]
    },
    {
      "cell_type": "code",
      "metadata": {
        "id": "8AbneVXiK9pC",
        "colab": {
          "base_uri": "https://localhost:8080/"
        },
        "outputId": "9e493c7a-a41c-4e31-bd25-cdd28f0d0d29"
      },
      "source": [
        "\"\"\" Generating some random data drawn from a Normal distribution (0,1) \"\"\"\n",
        "\n",
        "seq_length = 1000\n",
        "input = torch.randn(1, seq_length, n_mels)\n",
        "print(input)\n",
        "\n",
        "output = rnn(input)\n",
        "print(output)\n",
        "\n",
        "\n",
        "print(\"Norm of input data: {}\".format(torch.norm(input)))\n",
        "print(\"Norm of output data: {}\".format(torch.norm(output)))"
      ],
      "execution_count": null,
      "outputs": [
        {
          "output_type": "stream",
          "text": [
            "tensor([[[-0.7579, -0.3948, -1.3200,  ..., -0.7753, -1.8697,  0.5614],\n",
            "         [-0.4584, -0.2034,  1.0261,  ...,  0.2085,  0.7370,  0.0159],\n",
            "         [-2.0952, -0.1791,  0.9458,  ..., -0.8769,  0.0178,  0.5256],\n",
            "         ...,\n",
            "         [-0.3332, -0.1104, -0.1425,  ..., -1.2562, -0.0578,  0.2547],\n",
            "         [ 0.4299, -1.8319, -0.9533,  ...,  1.5572, -1.2213,  0.0718],\n",
            "         [-0.1717, -0.5625,  0.0332,  ...,  0.4196, -0.2139,  0.4226]]])\n",
            "tensor([[[ 0.0274, -0.0128,  0.0087,  ..., -0.0384,  0.0252,  0.0296],\n",
            "         [ 0.0419, -0.0151,  0.0125,  ..., -0.0509,  0.0351,  0.0431],\n",
            "         [ 0.0498, -0.0125,  0.0141,  ..., -0.0565,  0.0362,  0.0488],\n",
            "         ...,\n",
            "         [ 0.0498, -0.0113,  0.0281,  ..., -0.0506,  0.0344,  0.0523],\n",
            "         [ 0.0456, -0.0143,  0.0306,  ..., -0.0517,  0.0367,  0.0492],\n",
            "         [ 0.0358, -0.0204,  0.0336,  ..., -0.0508,  0.0375,  0.0443]]],\n",
            "       grad_fn=<TransposeBackward0>)\n",
            "Norm of input data: 282.0531311035156\n",
            "Norm of output data: 13.260701179504395\n"
          ],
          "name": "stdout"
        }
      ]
    },
    {
      "cell_type": "code",
      "metadata": {
        "id": "6XHsM3EJK9pD",
        "colab": {
          "base_uri": "https://localhost:8080/"
        },
        "outputId": "e210ee49-4e58-4121-f867-b93c9958c3bd"
      },
      "source": [
        "# Load a mel spectrogram \n",
        "audio_file = '/content/gdrive/MyDrive/Colab Notebooks/wavs/LJ001/LJ001-0011.wav'\n",
        "y_c, sr_c = librosa.load(audio_file, mono=True, duration=9)\n",
        "\n",
        "mel_spect_c = librosa.feature.melspectrogram(y=y_c, sr=22050, n_fft=1024, hop_length=256, n_mels=80)\n",
        "mel_spect_c_db = librosa.power_to_db(mel_spect_c, ref=np.max)\n",
        "mel_spect_c = mel_spect_c_db/10\n",
        "mel_spect_c = torch.FloatTensor(mel_spect_c)\n",
        "\n",
        "# Running the mel spectrogram through an LSTM (that has not been trained)\n",
        "rnn_mel = LSTMNet(n_mels, n_mels, n_layers, n_mels)\n",
        "\n",
        "print(mel_spect_c)\n",
        "mel_spect_c_reshape = np.transpose(mel_spect_c[np.newaxis, :, :], (0,2,1))\n",
        "mel_out = rnn_mel(mel_spect_c_reshape)\n",
        "print(mel_out)\n",
        "\n",
        "print(\"Norm of input data: {}\".format(torch.norm(mel_spect_c_reshape)))\n",
        "print(\"Norm of output data: {}\".format(torch.norm(mel_out)))\n",
        "\n",
        "\n",
        "loss = nn.MSELoss()\n",
        "print(\"MSE loss towards input: {}\".format(loss(mel_out, mel_spect_c_reshape)))\n",
        "\n",
        "\n",
        "# Standardize over time\n",
        "# Subtract mean and divide by standard deviation\n",
        "mel_spect_c_norm = (mel_spect_c_reshape - mel_spect_c_reshape.mean(axis=1)) / mel_spect_c_reshape.std(axis=1)\n",
        "print(mel_spect_c_norm)\n",
        "print(mel_spect_c_reshape.mean(axis=1))\n",
        "print(mel_spect_c_reshape.std(axis=1))\n",
        "mel_norm_out = rnn_mel(mel_spect_c_norm)\n",
        "\n",
        "print(\"Norm of input data (after normalization): {}\".format(torch.norm(mel_spect_c_norm)))\n",
        "print(\"Norm of output data (after normalization): {}\".format(torch.norm(mel_norm_out)))\n",
        "\n",
        "\n",
        "print(\"MSE loss towards input (after normalization): {}\".format(loss(mel_norm_out, mel_spect_c_norm)))"
      ],
      "execution_count": null,
      "outputs": [
        {
          "output_type": "stream",
          "text": [
            "tensor([[-7.5830, -6.9833, -7.0331,  ..., -8.0000, -8.0000, -8.0000],\n",
            "        [-7.1796, -6.4630, -5.5040,  ..., -7.0143, -7.1549, -7.0855],\n",
            "        [-6.6826, -5.4176, -5.0248,  ..., -6.3750, -6.8387, -7.0134],\n",
            "        ...,\n",
            "        [-8.0000, -8.0000, -7.4036,  ..., -8.0000, -8.0000, -8.0000],\n",
            "        [-8.0000, -8.0000, -7.5023,  ..., -8.0000, -8.0000, -8.0000],\n",
            "        [-8.0000, -8.0000, -7.7651,  ..., -8.0000, -8.0000, -8.0000]])\n",
            "tensor([[[ 0.0368,  0.0118,  0.0504,  ..., -0.0063, -0.0060, -0.0067],\n",
            "         [ 0.0523,  0.0148,  0.0828,  ..., -0.0120, -0.0137, -0.0102],\n",
            "         [ 0.0537,  0.0147,  0.1015,  ..., -0.0160, -0.0206, -0.0131],\n",
            "         ...,\n",
            "         [ 0.0424,  0.0049,  0.1356,  ..., -0.0048, -0.0364, -0.0253],\n",
            "         [ 0.0418,  0.0044,  0.1358,  ..., -0.0047, -0.0375, -0.0253],\n",
            "         [ 0.0408,  0.0041,  0.1359,  ..., -0.0046, -0.0389, -0.0254]]],\n",
            "       grad_fn=<TransposeBackward0>)\n",
            "Norm of input data: 1060.8131103515625\n",
            "Norm of output data: 9.159797668457031\n",
            "MSE loss towards input: 36.193119049072266\n",
            "tensor([[[-1.2630, -1.4030, -1.0979,  ..., -0.8217, -0.8120, -0.7524],\n",
            "         [-0.1246, -0.2208,  0.2790,  ..., -0.8217, -0.8120, -0.7524],\n",
            "         [-0.2192,  1.3613,  0.7065,  ..., -0.3267, -0.4116, -0.5278],\n",
            "         ...,\n",
            "         [-2.0543, -1.1304, -0.7631,  ..., -0.8217, -0.8120, -0.7524],\n",
            "         [-2.0543, -1.3623, -1.2678,  ..., -0.8217, -0.8120, -0.7524],\n",
            "         [-2.0543, -1.2478, -1.4580,  ..., -0.8217, -0.8120, -0.7524]]])\n",
            "tensor([[-6.9176, -6.3291, -5.6739, -4.5694, -4.0068, -3.9306, -4.2117, -3.9741,\n",
            "         -3.6775, -3.8654, -4.3072, -4.5478, -4.1642, -3.9682, -4.0518, -4.3990,\n",
            "         -4.5880, -4.7872, -5.0492, -5.2377, -5.3491, -5.3938, -5.3310, -5.3242,\n",
            "         -5.4427, -5.4611, -5.5082, -5.7629, -6.2207, -6.1235, -6.1377, -6.2300,\n",
            "         -6.1271, -6.0046, -5.9971, -5.8766, -5.7065, -5.6966, -5.8173, -5.8778,\n",
            "         -5.9290, -6.0408, -5.9741, -5.9377, -5.9377, -5.9788, -5.9592, -5.9236,\n",
            "         -5.9767, -6.0380, -6.2047, -6.4682, -6.5053, -6.3269, -6.2035, -5.9660,\n",
            "         -5.9045, -5.8812, -5.8648, -5.9454, -6.1091, -6.2763, -6.5245, -6.9123,\n",
            "         -7.0890, -6.9740, -6.7342, -6.6588, -6.6803, -6.6396, -6.4006, -6.3187,\n",
            "         -6.4352, -6.3973, -6.5233, -6.7604, -6.8402, -7.0099, -6.9906, -7.2130]])\n",
            "tensor([[0.5269, 0.6061, 0.9187, 1.6966, 1.6804, 1.3481, 1.4618, 1.6985, 1.7923,\n",
            "         1.8526, 1.7226, 1.4536, 1.5171, 1.6588, 1.6548, 1.6467, 1.6434, 1.5997,\n",
            "         1.5526, 1.5565, 1.6196, 1.6770, 1.6205, 1.5478, 1.4725, 1.5834, 1.6500,\n",
            "         1.4334, 1.2398, 1.3743, 1.4260, 1.3259, 1.3469, 1.3901, 1.3256, 1.3617,\n",
            "         1.4401, 1.3973, 1.2576, 1.2673, 1.3104, 1.2959, 1.3178, 1.3575, 1.3878,\n",
            "         1.3744, 1.4246, 1.4403, 1.4420, 1.4431, 1.3518, 1.2182, 1.1415, 1.1522,\n",
            "         1.1599, 1.3007, 1.3523, 1.3841, 1.4229, 1.4003, 1.3824, 1.4463, 1.4110,\n",
            "         1.3115, 1.2402, 1.3245, 1.4554, 1.4609, 1.3981, 1.4035, 1.4722, 1.4810,\n",
            "         1.4420, 1.4803, 1.4399, 1.3304, 1.2648, 1.2050, 1.2431, 1.0459]])\n",
            "Norm of input data (after normalization): 176.1814422607422\n",
            "Norm of output data (after normalization): 8.549413681030273\n",
            "MSE loss towards input (after normalization): 0.9983079433441162\n"
          ],
          "name": "stdout"
        }
      ]
    },
    {
      "cell_type": "code",
      "metadata": {
        "id": "E3_yUyETUvj0"
      },
      "source": [
        ""
      ],
      "execution_count": null,
      "outputs": []
    }
  ]
}